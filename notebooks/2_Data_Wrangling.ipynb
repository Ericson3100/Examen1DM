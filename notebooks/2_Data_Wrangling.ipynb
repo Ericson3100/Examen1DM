{
 "cells": [
  {
   "cell_type": "code",
   "execution_count": 73,
   "metadata": {},
   "outputs": [],
   "source": [
    "import pandas as pd"
   ]
  },
  {
   "cell_type": "code",
   "execution_count": 74,
   "metadata": {},
   "outputs": [],
   "source": [
    "megaline_calls=pd.read_csv('../data/raw/megaline_calls.csv')\n",
    "megaline_messages=pd.read_csv('../data/raw/megaline_messages.csv')\n",
    "megaline_internet=pd.read_csv('../data/raw/megaline_internet.csv')"
   ]
  },
  {
   "cell_type": "code",
   "execution_count": 75,
   "metadata": {},
   "outputs": [],
   "source": [
    "# Leer data megaline_users\n",
    "megaline_users = pd.read_csv('../data/raw/megaline_users.csv')\n",
    "#Reemplazar los nulos de churn_date por '0000-00-00'\n",
    "megaline_users['churn_date'] = megaline_users['churn_date'].fillna('2261-12-31')"
   ]
  },
  {
   "cell_type": "code",
   "execution_count": 76,
   "metadata": {},
   "outputs": [
    {
     "data": {
      "text/plain": [
       "user_id        int64\n",
       "first_name    object\n",
       "last_name     object\n",
       "age            int64\n",
       "city          object\n",
       "reg_date      object\n",
       "plan          object\n",
       "churn_date    object\n",
       "dtype: object"
      ]
     },
     "execution_count": 76,
     "metadata": {},
     "output_type": "execute_result"
    }
   ],
   "source": [
    "megaline_users.dtypes"
   ]
  },
  {
   "cell_type": "code",
   "execution_count": 77,
   "metadata": {},
   "outputs": [],
   "source": [
    "#Eliminar outliers de megaline_calls 'duration' y mega_internet 'mb_used'\n",
    "mean=megaline_calls['duration'].mean()\n",
    "std=megaline_calls['duration'].std()\n",
    "megaline_calls=megaline_calls[megaline_calls['duration']<mean+2*std]\n",
    "megaline_calls=megaline_calls[megaline_calls['duration']>mean-2*std]\n",
    "#Eliminar outliers de megaline_internet 'mb_used'\n",
    "mean=megaline_internet['mb_used'].mean()\n",
    "std=megaline_internet['mb_used'].std()\n",
    "megaline_internet=megaline_internet[megaline_internet['mb_used']<mean+2*std]\n",
    "megaline_internet=megaline_internet[megaline_internet['mb_used']>mean-2*std]\n"
   ]
  },
  {
   "cell_type": "code",
   "execution_count": 78,
   "metadata": {},
   "outputs": [
    {
     "data": {
      "text/html": [
       "<div>\n",
       "<style scoped>\n",
       "    .dataframe tbody tr th:only-of-type {\n",
       "        vertical-align: middle;\n",
       "    }\n",
       "\n",
       "    .dataframe tbody tr th {\n",
       "        vertical-align: top;\n",
       "    }\n",
       "\n",
       "    .dataframe thead th {\n",
       "        text-align: right;\n",
       "    }\n",
       "</style>\n",
       "<table border=\"1\" class=\"dataframe\">\n",
       "  <thead>\n",
       "    <tr style=\"text-align: right;\">\n",
       "      <th></th>\n",
       "      <th>messages_included</th>\n",
       "      <th>mb_per_month_included</th>\n",
       "      <th>minutes_included</th>\n",
       "      <th>usd_monthly_pay</th>\n",
       "      <th>usd_per_mb</th>\n",
       "      <th>usd_per_message</th>\n",
       "      <th>usd_per_minute</th>\n",
       "      <th>plan_name</th>\n",
       "    </tr>\n",
       "  </thead>\n",
       "  <tbody>\n",
       "    <tr>\n",
       "      <th>0</th>\n",
       "      <td>50</td>\n",
       "      <td>15360</td>\n",
       "      <td>500</td>\n",
       "      <td>20</td>\n",
       "      <td>0.010</td>\n",
       "      <td>0.03</td>\n",
       "      <td>0.03</td>\n",
       "      <td>surf</td>\n",
       "    </tr>\n",
       "    <tr>\n",
       "      <th>1</th>\n",
       "      <td>1000</td>\n",
       "      <td>30720</td>\n",
       "      <td>3000</td>\n",
       "      <td>70</td>\n",
       "      <td>0.007</td>\n",
       "      <td>0.01</td>\n",
       "      <td>0.01</td>\n",
       "      <td>ultimate</td>\n",
       "    </tr>\n",
       "  </tbody>\n",
       "</table>\n",
       "</div>"
      ],
      "text/plain": [
       "   messages_included  mb_per_month_included  minutes_included  \\\n",
       "0                 50                  15360               500   \n",
       "1               1000                  30720              3000   \n",
       "\n",
       "   usd_monthly_pay  usd_per_mb  usd_per_message  usd_per_minute plan_name  \n",
       "0               20       0.010             0.03            0.03      surf  \n",
       "1               70       0.007             0.01            0.01  ultimate  "
      ]
     },
     "execution_count": 78,
     "metadata": {},
     "output_type": "execute_result"
    }
   ],
   "source": [
    "megaline_plans=pd.read_csv('../data/raw/megaline_plans.csv')\n",
    "#Cambiar usd_per_gb a usd_per_mb realizando la conversion de GB a MB (1GB son 1000 MB), normalmente usado esta conversion en\n",
    "#Telefonia movil\n",
    "megaline_plans['usd_per_gb'] = megaline_plans['usd_per_gb']/1000\n",
    "megaline_plans.rename(columns={'usd_per_gb':'usd_per_mb'}, inplace=True)\n",
    "megaline_plans.head()\n"
   ]
  },
  {
   "cell_type": "code",
   "execution_count": 79,
   "metadata": {},
   "outputs": [],
   "source": [
    "#Cargar cada dataset a clean\n",
    "megaline_users.to_csv('../data/clean/megaline_users.csv', index=False)\n",
    "\n",
    "megaline_calls.to_csv('../data/clean/megaline_calls.csv', index=False)\n",
    "\n",
    "megaline_messages.to_csv('../data/clean/megaline_messages.csv', index=False)\n",
    "\n",
    "megaline_internet.to_csv('../data/clean/megaline_internet.csv', index=False)\n",
    "megaline_plans.to_csv('../data/clean/megaline_plans.csv', index=False)"
   ]
  },
  {
   "cell_type": "code",
   "execution_count": null,
   "metadata": {},
   "outputs": [],
   "source": []
  }
 ],
 "metadata": {
  "kernelspec": {
   "display_name": "Python 3",
   "language": "python",
   "name": "python3"
  },
  "language_info": {
   "codemirror_mode": {
    "name": "ipython",
    "version": 3
   },
   "file_extension": ".py",
   "mimetype": "text/x-python",
   "name": "python",
   "nbconvert_exporter": "python",
   "pygments_lexer": "ipython3",
   "version": "3.11.8"
  }
 },
 "nbformat": 4,
 "nbformat_minor": 2
}
