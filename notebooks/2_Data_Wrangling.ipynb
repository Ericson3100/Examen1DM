{
 "cells": [
  {
   "cell_type": "code",
   "execution_count": 80,
   "metadata": {},
   "outputs": [],
   "source": [
    "import pandas as pd"
   ]
  },
  {
   "cell_type": "code",
   "execution_count": 82,
   "metadata": {},
   "outputs": [],
   "source": [
    "# Leer data megaline_users\n",
    "megaline_users = pd.read_csv('../data/raw/megaline_users.csv')\n",
    "#Reemplazar los nulos de churn_date por '0000-00-00'\n",
    "megaline_users['churn_date'] = megaline_users['churn_date'].fillna('2261-12-31')"
   ]
  },
  {
   "cell_type": "code",
   "execution_count": 83,
   "metadata": {},
   "outputs": [
    {
     "data": {
      "text/plain": [
       "user_id        int64\n",
       "first_name    object\n",
       "last_name     object\n",
       "age            int64\n",
       "city          object\n",
       "reg_date      object\n",
       "plan          object\n",
       "churn_date    object\n",
       "dtype: object"
      ]
     },
     "execution_count": 83,
     "metadata": {},
     "output_type": "execute_result"
    }
   ],
   "source": [
    "megaline_users.dtypes"
   ]
  },
  {
   "cell_type": "code",
   "execution_count": null,
   "metadata": {},
   "outputs": [],
   "source": [
    "# #Eliminar outliers de megaline_calls 'duration' y mega_internet 'mb_used'\n",
    "# mean=megaline_calls['duration'].mean()\n",
    "# std=megaline_calls['duration'].std()\n",
    "# megaline_calls=megaline_calls[megaline_calls['duration']<mean+2*std]\n",
    "# megaline_calls=megaline_calls[megaline_calls['duration']>mean-2*std]\n",
    "# #Eliminar outliers de megaline_internet 'mb_used'\n",
    "# mean=megaline_internet['mb_used'].mean()\n",
    "# std=megaline_internet['mb_used'].std()\n",
    "# megaline_internet=megaline_internet[megaline_internet['mb_used']<mean+2*std]\n",
    "# megaline_internet=megaline_internet[megaline_internet['mb_used']>mean-2*std]\n"
   ]
  },
  {
   "cell_type": "code",
   "execution_count": null,
   "metadata": {},
   "outputs": [
    {
     "ename": "",
     "evalue": "",
     "output_type": "error",
     "traceback": [
      "\u001b[1;31mThe Kernel crashed while executing code in the current cell or a previous cell. \n",
      "\u001b[1;31mPlease review the code in the cell(s) to identify a possible cause of the failure. \n",
      "\u001b[1;31mClick <a href='https://aka.ms/vscodeJupyterKernelCrash'>here</a> for more info. \n",
      "\u001b[1;31mView Jupyter <a href='command:jupyter.viewOutput'>log</a> for further details."
     ]
    }
   ],
   "source": [
    "#Cargar cada dataset a clean\n",
    "megaline_users.to_csv('../data/clean/megaline_users.csv', index=False)"
   ]
  },
  {
   "cell_type": "code",
   "execution_count": null,
   "metadata": {},
   "outputs": [],
   "source": []
  }
 ],
 "metadata": {
  "kernelspec": {
   "display_name": "Python 3",
   "language": "python",
   "name": "python3"
  },
  "language_info": {
   "codemirror_mode": {
    "name": "ipython",
    "version": 3
   },
   "file_extension": ".py",
   "mimetype": "text/x-python",
   "name": "python",
   "nbconvert_exporter": "python",
   "pygments_lexer": "ipython3",
   "version": "3.11.8"
  }
 },
 "nbformat": 4,
 "nbformat_minor": 2
}
