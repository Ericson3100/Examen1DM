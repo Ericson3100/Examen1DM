{
 "cells": [
  {
   "cell_type": "code",
   "execution_count": 144,
   "metadata": {},
   "outputs": [],
   "source": [
    "import pandas as pd"
   ]
  },
  {
   "cell_type": "markdown",
   "metadata": {},
   "source": [
    "Megaline Calls"
   ]
  },
  {
   "cell_type": "code",
   "execution_count": 145,
   "metadata": {},
   "outputs": [
    {
     "data": {
      "text/html": [
       "<div>\n",
       "<style scoped>\n",
       "    .dataframe tbody tr th:only-of-type {\n",
       "        vertical-align: middle;\n",
       "    }\n",
       "\n",
       "    .dataframe tbody tr th {\n",
       "        vertical-align: top;\n",
       "    }\n",
       "\n",
       "    .dataframe thead th {\n",
       "        text-align: right;\n",
       "    }\n",
       "</style>\n",
       "<table border=\"1\" class=\"dataframe\">\n",
       "  <thead>\n",
       "    <tr style=\"text-align: right;\">\n",
       "      <th></th>\n",
       "      <th>id</th>\n",
       "      <th>user_id</th>\n",
       "      <th>call_date</th>\n",
       "      <th>duration</th>\n",
       "    </tr>\n",
       "  </thead>\n",
       "  <tbody>\n",
       "    <tr>\n",
       "      <th>0</th>\n",
       "      <td>1000_93</td>\n",
       "      <td>1000</td>\n",
       "      <td>2018-12-27</td>\n",
       "      <td>8.52</td>\n",
       "    </tr>\n",
       "    <tr>\n",
       "      <th>1</th>\n",
       "      <td>1000_145</td>\n",
       "      <td>1000</td>\n",
       "      <td>2018-12-27</td>\n",
       "      <td>13.66</td>\n",
       "    </tr>\n",
       "    <tr>\n",
       "      <th>2</th>\n",
       "      <td>1000_247</td>\n",
       "      <td>1000</td>\n",
       "      <td>2018-12-27</td>\n",
       "      <td>14.48</td>\n",
       "    </tr>\n",
       "    <tr>\n",
       "      <th>3</th>\n",
       "      <td>1000_309</td>\n",
       "      <td>1000</td>\n",
       "      <td>2018-12-28</td>\n",
       "      <td>5.76</td>\n",
       "    </tr>\n",
       "    <tr>\n",
       "      <th>4</th>\n",
       "      <td>1000_380</td>\n",
       "      <td>1000</td>\n",
       "      <td>2018-12-30</td>\n",
       "      <td>4.22</td>\n",
       "    </tr>\n",
       "  </tbody>\n",
       "</table>\n",
       "</div>"
      ],
      "text/plain": [
       "         id  user_id   call_date  duration\n",
       "0   1000_93     1000  2018-12-27      8.52\n",
       "1  1000_145     1000  2018-12-27     13.66\n",
       "2  1000_247     1000  2018-12-27     14.48\n",
       "3  1000_309     1000  2018-12-28      5.76\n",
       "4  1000_380     1000  2018-12-30      4.22"
      ]
     },
     "execution_count": 145,
     "metadata": {},
     "output_type": "execute_result"
    }
   ],
   "source": [
    "#Abrir el archivo data/raw/megaline_calls.csv y mostrar las primeras filas\n",
    "data = pd.read_csv('../data/raw/megaline_calls.csv')\n",
    "data.head()"
   ]
  },
  {
   "cell_type": "code",
   "execution_count": 146,
   "metadata": {},
   "outputs": [
    {
     "name": "stdout",
     "output_type": "stream",
     "text": [
      "id            object\n",
      "user_id        int64\n",
      "call_date     object\n",
      "duration     float64\n",
      "dtype: object\n"
     ]
    }
   ],
   "source": [
    "print(data.dtypes)"
   ]
  },
  {
   "cell_type": "code",
   "execution_count": 147,
   "metadata": {},
   "outputs": [
    {
     "data": {
      "text/plain": [
       "id           0\n",
       "user_id      0\n",
       "call_date    0\n",
       "duration     0\n",
       "dtype: int64"
      ]
     },
     "execution_count": 147,
     "metadata": {},
     "output_type": "execute_result"
    }
   ],
   "source": [
    "#Ver valores nulos de todas las filas\n",
    "data.isnull().sum()"
   ]
  },
  {
   "cell_type": "code",
   "execution_count": 148,
   "metadata": {},
   "outputs": [
    {
     "name": "stdout",
     "output_type": "stream",
     "text": [
      "0\n",
      "0\n"
     ]
    }
   ],
   "source": [
    "#Ver duplicados\n",
    "print(data.duplicated().sum())\n",
    "#Ver id duplicados\n",
    "print(data['id'].duplicated().sum())"
   ]
  },
  {
   "cell_type": "code",
   "execution_count": 149,
   "metadata": {},
   "outputs": [
    {
     "name": "stdout",
     "output_type": "stream",
     "text": [
      "Outliers: 5218\n",
      "% Outliers: 3.788434312266308\n"
     ]
    },
    {
     "data": {
      "image/png": "[encoded data removed]",
      "text/plain": [
       "<Figure size 640x480 with 1 Axes>"
      ]
     },
     "metadata": {},
     "output_type": "display_data"
    }
   ],
   "source": [
    "#Ver outliers de la columna duration\n",
    "data['duration'].describe()\n",
    "data['duration'].plot(kind='box', title='Duration Boxplot')\n",
    "#Usar 2 desviaciones estandar para definir outliers\n",
    "mean = data['duration'].mean()\n",
    "std = data['duration'].std()\n",
    "outliers = mean + 2*std\n",
    "print('Outliers:', data[data['duration'] > outliers].shape[0])\n",
    "print('% Outliers:', data[data['duration'] > outliers].shape[0]/data.shape[0]*100)"
   ]
  },
  {
   "cell_type": "markdown",
   "metadata": {},
   "source": [
    "Como son varios datos outliers y no representan un gran porcentaje, se considera que son datos reales y útiles para el modelo por lo que no se eliminan."
   ]
  },
  {
   "cell_type": "markdown",
   "metadata": {},
   "source": [
    "Megaline Internet"
   ]
  },
  {
   "cell_type": "code",
   "execution_count": 150,
   "metadata": {},
   "outputs": [
    {
     "data": {
      "text/html": [
       "<div>\n",
       "<style scoped>\n",
       "    .dataframe tbody tr th:only-of-type {\n",
       "        vertical-align: middle;\n",
       "    }\n",
       "\n",
       "    .dataframe tbody tr th {\n",
       "        vertical-align: top;\n",
       "    }\n",
       "\n",
       "    .dataframe thead th {\n",
       "        text-align: right;\n",
       "    }\n",
       "</style>\n",
       "<table border=\"1\" class=\"dataframe\">\n",
       "  <thead>\n",
       "    <tr style=\"text-align: right;\">\n",
       "      <th></th>\n",
       "      <th>id</th>\n",
       "      <th>user_id</th>\n",
       "      <th>session_date</th>\n",
       "      <th>mb_used</th>\n",
       "    </tr>\n",
       "  </thead>\n",
       "  <tbody>\n",
       "    <tr>\n",
       "      <th>0</th>\n",
       "      <td>1000_13</td>\n",
       "      <td>1000</td>\n",
       "      <td>2018-12-29</td>\n",
       "      <td>89.86</td>\n",
       "    </tr>\n",
       "    <tr>\n",
       "      <th>1</th>\n",
       "      <td>1000_204</td>\n",
       "      <td>1000</td>\n",
       "      <td>2018-12-31</td>\n",
       "      <td>0.00</td>\n",
       "    </tr>\n",
       "    <tr>\n",
       "      <th>2</th>\n",
       "      <td>1000_379</td>\n",
       "      <td>1000</td>\n",
       "      <td>2018-12-28</td>\n",
       "      <td>660.40</td>\n",
       "    </tr>\n",
       "    <tr>\n",
       "      <th>3</th>\n",
       "      <td>1000_413</td>\n",
       "      <td>1000</td>\n",
       "      <td>2018-12-26</td>\n",
       "      <td>270.99</td>\n",
       "    </tr>\n",
       "    <tr>\n",
       "      <th>4</th>\n",
       "      <td>1000_442</td>\n",
       "      <td>1000</td>\n",
       "      <td>2018-12-27</td>\n",
       "      <td>880.22</td>\n",
       "    </tr>\n",
       "  </tbody>\n",
       "</table>\n",
       "</div>"
      ],
      "text/plain": [
       "         id  user_id session_date  mb_used\n",
       "0   1000_13     1000   2018-12-29    89.86\n",
       "1  1000_204     1000   2018-12-31     0.00\n",
       "2  1000_379     1000   2018-12-28   660.40\n",
       "3  1000_413     1000   2018-12-26   270.99\n",
       "4  1000_442     1000   2018-12-27   880.22"
      ]
     },
     "execution_count": 150,
     "metadata": {},
     "output_type": "execute_result"
    }
   ],
   "source": [
    "#Abrir el archivo data/raw/megaline_internet.csv y mostrar las primeras filas\n",
    "data2 = pd.read_csv('../data/raw/megaline_internet.csv')\n",
    "data2.head()"
   ]
  },
  {
   "cell_type": "code",
   "execution_count": 151,
   "metadata": {},
   "outputs": [
    {
     "name": "stdout",
     "output_type": "stream",
     "text": [
      "id               object\n",
      "user_id           int64\n",
      "session_date     object\n",
      "mb_used         float64\n",
      "dtype: object\n"
     ]
    }
   ],
   "source": [
    "print(data2.dtypes)"
   ]
  },
  {
   "cell_type": "code",
   "execution_count": 152,
   "metadata": {},
   "outputs": [
    {
     "name": "stdout",
     "output_type": "stream",
     "text": [
      "0\n",
      "0\n"
     ]
    }
   ],
   "source": [
    "#Ver duplicados\n",
    "print(data2.duplicated().sum())\n",
    "#Ver id duplicados\n",
    "print(data2['id'].duplicated().sum())"
   ]
  },
  {
   "cell_type": "code",
   "execution_count": 153,
   "metadata": {},
   "outputs": [
    {
     "data": {
      "text/plain": [
       "id              0\n",
       "user_id         0\n",
       "session_date    0\n",
       "mb_used         0\n",
       "dtype: int64"
      ]
     },
     "execution_count": 153,
     "metadata": {},
     "output_type": "execute_result"
    }
   ],
   "source": [
    "#Ver valores nulos de todas las filas\n",
    "data2.isnull().sum()"
   ]
  },
  {
   "cell_type": "code",
   "execution_count": 154,
   "metadata": {},
   "outputs": [
    {
     "name": "stdout",
     "output_type": "stream",
     "text": [
      "Outliers: 3477\n",
      "% Outliers: 3.316956832816599\n"
     ]
    },
    {
     "data": {
      "image/png": "[encoded data removed]",
      "text/plain": [
       "<Figure size 640x480 with 1 Axes>"
      ]
     },
     "metadata": {},
     "output_type": "display_data"
    }
   ],
   "source": [
    "#Ver outliers de la columna mb_used\n",
    "data2['mb_used'].describe()\n",
    "data2['mb_used'].plot(kind='box', title='mb_used Boxplot')\n",
    "#Usar 2 desviaciones estandar para definir outliers\n",
    "mean = data2['mb_used'].mean()\n",
    "std = data2['mb_used'].std()\n",
    "outliers = mean + 2*std\n",
    "print('Outliers:', data2[data2['mb_used'] > outliers].shape[0])\n",
    "print('% Outliers:', data2[data2['mb_used'] > outliers].shape[0]/data2.shape[0]*100)"
   ]
  },
  {
   "cell_type": "markdown",
   "metadata": {},
   "source": [
    "Como son varios datos outliers y no representan un gran porcentaje, se considera que son datos reales y útiles para el modelo por lo que no se eliminan."
   ]
  },
  {
   "cell_type": "markdown",
   "metadata": {},
   "source": [
    "Megaline messages"
   ]
  },
  {
   "cell_type": "code",
   "execution_count": 155,
   "metadata": {},
   "outputs": [
    {
     "data": {
      "text/html": [
       "<div>\n",
       "<style scoped>\n",
       "    .dataframe tbody tr th:only-of-type {\n",
       "        vertical-align: middle;\n",
       "    }\n",
       "\n",
       "    .dataframe tbody tr th {\n",
       "        vertical-align: top;\n",
       "    }\n",
       "\n",
       "    .dataframe thead th {\n",
       "        text-align: right;\n",
       "    }\n",
       "</style>\n",
       "<table border=\"1\" class=\"dataframe\">\n",
       "  <thead>\n",
       "    <tr style=\"text-align: right;\">\n",
       "      <th></th>\n",
       "      <th>id</th>\n",
       "      <th>user_id</th>\n",
       "      <th>message_date</th>\n",
       "    </tr>\n",
       "  </thead>\n",
       "  <tbody>\n",
       "    <tr>\n",
       "      <th>0</th>\n",
       "      <td>1000_125</td>\n",
       "      <td>1000</td>\n",
       "      <td>2018-12-27</td>\n",
       "    </tr>\n",
       "    <tr>\n",
       "      <th>1</th>\n",
       "      <td>1000_160</td>\n",
       "      <td>1000</td>\n",
       "      <td>2018-12-31</td>\n",
       "    </tr>\n",
       "    <tr>\n",
       "      <th>2</th>\n",
       "      <td>1000_223</td>\n",
       "      <td>1000</td>\n",
       "      <td>2018-12-31</td>\n",
       "    </tr>\n",
       "    <tr>\n",
       "      <th>3</th>\n",
       "      <td>1000_251</td>\n",
       "      <td>1000</td>\n",
       "      <td>2018-12-27</td>\n",
       "    </tr>\n",
       "    <tr>\n",
       "      <th>4</th>\n",
       "      <td>1000_255</td>\n",
       "      <td>1000</td>\n",
       "      <td>2018-12-26</td>\n",
       "    </tr>\n",
       "  </tbody>\n",
       "</table>\n",
       "</div>"
      ],
      "text/plain": [
       "         id  user_id message_date\n",
       "0  1000_125     1000   2018-12-27\n",
       "1  1000_160     1000   2018-12-31\n",
       "2  1000_223     1000   2018-12-31\n",
       "3  1000_251     1000   2018-12-27\n",
       "4  1000_255     1000   2018-12-26"
      ]
     },
     "execution_count": 155,
     "metadata": {},
     "output_type": "execute_result"
    }
   ],
   "source": [
    "#Abrir el archivo data/raw/megaline_messages.csv y mostrar las primeras filas\n",
    "data3 = pd.read_csv('../data/raw/megaline_messages.csv')\n",
    "data3.head()\n"
   ]
  },
  {
   "cell_type": "code",
   "execution_count": 156,
   "metadata": {},
   "outputs": [
    {
     "name": "stdout",
     "output_type": "stream",
     "text": [
      "id              object\n",
      "user_id          int64\n",
      "message_date    object\n",
      "dtype: object\n"
     ]
    }
   ],
   "source": [
    "print(data3.dtypes)"
   ]
  },
  {
   "cell_type": "code",
   "execution_count": 157,
   "metadata": {},
   "outputs": [
    {
     "name": "stdout",
     "output_type": "stream",
     "text": [
      "0\n",
      "0\n"
     ]
    }
   ],
   "source": [
    "#Ver duplicados\n",
    "print(data3.duplicated().sum())\n",
    "#Ver id duplicados\n",
    "print(data3['id'].duplicated().sum())"
   ]
  },
  {
   "cell_type": "code",
   "execution_count": 158,
   "metadata": {},
   "outputs": [
    {
     "data": {
      "text/plain": [
       "id              0\n",
       "user_id         0\n",
       "message_date    0\n",
       "dtype: int64"
      ]
     },
     "execution_count": 158,
     "metadata": {},
     "output_type": "execute_result"
    }
   ],
   "source": [
    "#Ver valores nulos de todas las filas\n",
    "data3.isnull().sum()"
   ]
  },
  {
   "cell_type": "markdown",
   "metadata": {},
   "source": [
    "Megaline Plans"
   ]
  },
  {
   "cell_type": "code",
   "execution_count": 159,
   "metadata": {},
   "outputs": [
    {
     "data": {
      "text/html": [
       "<div>\n",
       "<style scoped>\n",
       "    .dataframe tbody tr th:only-of-type {\n",
       "        vertical-align: middle;\n",
       "    }\n",
       "\n",
       "    .dataframe tbody tr th {\n",
       "        vertical-align: top;\n",
       "    }\n",
       "\n",
       "    .dataframe thead th {\n",
       "        text-align: right;\n",
       "    }\n",
       "</style>\n",
       "<table border=\"1\" class=\"dataframe\">\n",
       "  <thead>\n",
       "    <tr style=\"text-align: right;\">\n",
       "      <th></th>\n",
       "      <th>messages_included</th>\n",
       "      <th>mb_per_month_included</th>\n",
       "      <th>minutes_included</th>\n",
       "      <th>usd_monthly_pay</th>\n",
       "      <th>usd_per_gb</th>\n",
       "      <th>usd_per_message</th>\n",
       "      <th>usd_per_minute</th>\n",
       "      <th>plan_name</th>\n",
       "    </tr>\n",
       "  </thead>\n",
       "  <tbody>\n",
       "    <tr>\n",
       "      <th>0</th>\n",
       "      <td>50</td>\n",
       "      <td>15360</td>\n",
       "      <td>500</td>\n",
       "      <td>20</td>\n",
       "      <td>10</td>\n",
       "      <td>0.03</td>\n",
       "      <td>0.03</td>\n",
       "      <td>surf</td>\n",
       "    </tr>\n",
       "    <tr>\n",
       "      <th>1</th>\n",
       "      <td>1000</td>\n",
       "      <td>30720</td>\n",
       "      <td>3000</td>\n",
       "      <td>70</td>\n",
       "      <td>7</td>\n",
       "      <td>0.01</td>\n",
       "      <td>0.01</td>\n",
       "      <td>ultimate</td>\n",
       "    </tr>\n",
       "  </tbody>\n",
       "</table>\n",
       "</div>"
      ],
      "text/plain": [
       "   messages_included  mb_per_month_included  minutes_included  \\\n",
       "0                 50                  15360               500   \n",
       "1               1000                  30720              3000   \n",
       "\n",
       "   usd_monthly_pay  usd_per_gb  usd_per_message  usd_per_minute plan_name  \n",
       "0               20          10             0.03            0.03      surf  \n",
       "1               70           7             0.01            0.01  ultimate  "
      ]
     },
     "execution_count": 159,
     "metadata": {},
     "output_type": "execute_result"
    }
   ],
   "source": [
    "#Abrir el archivo data/raw/megaline_plans.csv y mostrar las primeras filas\n",
    "data4 = pd.read_csv('../data/raw/megaline_plans.csv')\n",
    "data4.head()"
   ]
  },
  {
   "cell_type": "code",
   "execution_count": 160,
   "metadata": {},
   "outputs": [
    {
     "name": "stdout",
     "output_type": "stream",
     "text": [
      "messages_included          int64\n",
      "mb_per_month_included      int64\n",
      "minutes_included           int64\n",
      "usd_monthly_pay            int64\n",
      "usd_per_gb                 int64\n",
      "usd_per_message          float64\n",
      "usd_per_minute           float64\n",
      "plan_name                 object\n",
      "dtype: object\n"
     ]
    }
   ],
   "source": [
    "print(data4.dtypes)"
   ]
  },
  {
   "cell_type": "markdown",
   "metadata": {},
   "source": [
    "Debido a que el consumo es en mb, se debe cambiar el usd_per_gb a usd_per_mb"
   ]
  },
  {
   "cell_type": "code",
   "execution_count": 161,
   "metadata": {},
   "outputs": [
    {
     "name": "stdout",
     "output_type": "stream",
     "text": [
      "0\n",
      "0\n"
     ]
    }
   ],
   "source": [
    "#Ver duplicados\n",
    "print(data4.duplicated().sum())\n",
    "#Ver plan_name duplicados\n",
    "print(data4['plan_name'].duplicated().sum())"
   ]
  },
  {
   "cell_type": "code",
   "execution_count": 162,
   "metadata": {},
   "outputs": [
    {
     "data": {
      "text/plain": [
       "messages_included        0\n",
       "mb_per_month_included    0\n",
       "minutes_included         0\n",
       "usd_monthly_pay          0\n",
       "usd_per_gb               0\n",
       "usd_per_message          0\n",
       "usd_per_minute           0\n",
       "plan_name                0\n",
       "dtype: int64"
      ]
     },
     "execution_count": 162,
     "metadata": {},
     "output_type": "execute_result"
    }
   ],
   "source": [
    "#Ver valores nulos de todas las filas\n",
    "data4.isnull().sum()"
   ]
  },
  {
   "cell_type": "markdown",
   "metadata": {},
   "source": [
    "Megaline Users"
   ]
  },
  {
   "cell_type": "code",
   "execution_count": 163,
   "metadata": {},
   "outputs": [
    {
     "data": {
      "text/html": [
       "<div>\n",
       "<style scoped>\n",
       "    .dataframe tbody tr th:only-of-type {\n",
       "        vertical-align: middle;\n",
       "    }\n",
       "\n",
       "    .dataframe tbody tr th {\n",
       "        vertical-align: top;\n",
       "    }\n",
       "\n",
       "    .dataframe thead th {\n",
       "        text-align: right;\n",
       "    }\n",
       "</style>\n",
       "<table border=\"1\" class=\"dataframe\">\n",
       "  <thead>\n",
       "    <tr style=\"text-align: right;\">\n",
       "      <th></th>\n",
       "      <th>user_id</th>\n",
       "      <th>first_name</th>\n",
       "      <th>last_name</th>\n",
       "      <th>age</th>\n",
       "      <th>city</th>\n",
       "      <th>reg_date</th>\n",
       "      <th>plan</th>\n",
       "      <th>churn_date</th>\n",
       "    </tr>\n",
       "  </thead>\n",
       "  <tbody>\n",
       "    <tr>\n",
       "      <th>0</th>\n",
       "      <td>1000</td>\n",
       "      <td>Anamaria</td>\n",
       "      <td>Bauer</td>\n",
       "      <td>45</td>\n",
       "      <td>Atlanta-Sandy Springs-Roswell, GA MSA</td>\n",
       "      <td>2018-12-24</td>\n",
       "      <td>ultimate</td>\n",
       "      <td>NaN</td>\n",
       "    </tr>\n",
       "    <tr>\n",
       "      <th>1</th>\n",
       "      <td>1001</td>\n",
       "      <td>Mickey</td>\n",
       "      <td>Wilkerson</td>\n",
       "      <td>28</td>\n",
       "      <td>Seattle-Tacoma-Bellevue, WA MSA</td>\n",
       "      <td>2018-08-13</td>\n",
       "      <td>surf</td>\n",
       "      <td>NaN</td>\n",
       "    </tr>\n",
       "    <tr>\n",
       "      <th>2</th>\n",
       "      <td>1002</td>\n",
       "      <td>Carlee</td>\n",
       "      <td>Hoffman</td>\n",
       "      <td>36</td>\n",
       "      <td>Las Vegas-Henderson-Paradise, NV MSA</td>\n",
       "      <td>2018-10-21</td>\n",
       "      <td>surf</td>\n",
       "      <td>NaN</td>\n",
       "    </tr>\n",
       "    <tr>\n",
       "      <th>3</th>\n",
       "      <td>1003</td>\n",
       "      <td>Reynaldo</td>\n",
       "      <td>Jenkins</td>\n",
       "      <td>52</td>\n",
       "      <td>Tulsa, OK MSA</td>\n",
       "      <td>2018-01-28</td>\n",
       "      <td>surf</td>\n",
       "      <td>NaN</td>\n",
       "    </tr>\n",
       "    <tr>\n",
       "      <th>4</th>\n",
       "      <td>1004</td>\n",
       "      <td>Leonila</td>\n",
       "      <td>Thompson</td>\n",
       "      <td>40</td>\n",
       "      <td>Seattle-Tacoma-Bellevue, WA MSA</td>\n",
       "      <td>2018-05-23</td>\n",
       "      <td>surf</td>\n",
       "      <td>NaN</td>\n",
       "    </tr>\n",
       "  </tbody>\n",
       "</table>\n",
       "</div>"
      ],
      "text/plain": [
       "   user_id first_name  last_name  age                                   city  \\\n",
       "0     1000   Anamaria      Bauer   45  Atlanta-Sandy Springs-Roswell, GA MSA   \n",
       "1     1001     Mickey  Wilkerson   28        Seattle-Tacoma-Bellevue, WA MSA   \n",
       "2     1002     Carlee    Hoffman   36   Las Vegas-Henderson-Paradise, NV MSA   \n",
       "3     1003   Reynaldo    Jenkins   52                          Tulsa, OK MSA   \n",
       "4     1004    Leonila   Thompson   40        Seattle-Tacoma-Bellevue, WA MSA   \n",
       "\n",
       "     reg_date      plan churn_date  \n",
       "0  2018-12-24  ultimate        NaN  \n",
       "1  2018-08-13      surf        NaN  \n",
       "2  2018-10-21      surf        NaN  \n",
       "3  2018-01-28      surf        NaN  \n",
       "4  2018-05-23      surf        NaN  "
      ]
     },
     "execution_count": 163,
     "metadata": {},
     "output_type": "execute_result"
    }
   ],
   "source": [
    "#Abrir el archivo data/raw/megaline_users.csv y mostrar las primeras filas\n",
    "data5 = pd.read_csv('../data/raw/megaline_users.csv')\n",
    "data5.head()"
   ]
  },
  {
   "cell_type": "code",
   "execution_count": 164,
   "metadata": {},
   "outputs": [
    {
     "name": "stdout",
     "output_type": "stream",
     "text": [
      "user_id        int64\n",
      "first_name    object\n",
      "last_name     object\n",
      "age            int64\n",
      "city          object\n",
      "reg_date      object\n",
      "plan          object\n",
      "churn_date    object\n",
      "dtype: object\n"
     ]
    }
   ],
   "source": [
    "print(data5.dtypes)"
   ]
  },
  {
   "cell_type": "code",
   "execution_count": 165,
   "metadata": {},
   "outputs": [
    {
     "name": "stdout",
     "output_type": "stream",
     "text": [
      "0\n",
      "0\n"
     ]
    }
   ],
   "source": [
    "#Ver duplicados\n",
    "print(data5.duplicated().sum())\n",
    "#Ver user_id duplicados\n",
    "print(data5['user_id'].duplicated().sum())"
   ]
  },
  {
   "cell_type": "code",
   "execution_count": 166,
   "metadata": {},
   "outputs": [
    {
     "data": {
      "text/plain": [
       "user_id         0\n",
       "first_name      0\n",
       "last_name       0\n",
       "age             0\n",
       "city            0\n",
       "reg_date        0\n",
       "plan            0\n",
       "churn_date    466\n",
       "dtype: int64"
      ]
     },
     "execution_count": 166,
     "metadata": {},
     "output_type": "execute_result"
    }
   ],
   "source": [
    "#Ver valores nulos de todas las filas\n",
    "data5.isnull().sum()"
   ]
  },
  {
   "cell_type": "code",
   "execution_count": 167,
   "metadata": {},
   "outputs": [
    {
     "data": {
      "text/plain": [
       "array([nan, '2018-12-18', '2018-11-16', '2018-09-07', '2018-12-30',\n",
       "       '2018-10-07', '2018-12-31', '2018-11-24', '2018-11-11',\n",
       "       '2018-12-12', '2018-11-14', '2018-12-27', '2018-11-29',\n",
       "       '2018-12-22', '2018-11-30', '2018-10-13', '2018-07-31',\n",
       "       '2018-12-15', '2018-12-19', '2018-10-03', '2018-10-22',\n",
       "       '2018-08-16', '2018-12-26', '2018-09-01', '2018-11-21',\n",
       "       '2018-08-19', '2018-12-10', '2018-09-17', '2018-11-18',\n",
       "       '2018-09-18'], dtype=object)"
      ]
     },
     "execution_count": 167,
     "metadata": {},
     "output_type": "execute_result"
    }
   ],
   "source": [
    "#Tratamiento de valores nulos para churn_date\n",
    "#Ver valores únicos de churn_date\n",
    "data5['churn_date'].unique()"
   ]
  },
  {
   "cell_type": "code",
   "execution_count": 168,
   "metadata": {},
   "outputs": [
    {
     "name": "stdout",
     "output_type": "stream",
     "text": [
      "user_id [1000 1001 1002 1003 1004 1005 1007 1008 1009 1010 1011 1013 1014 1015\n",
      " 1016 1017 1018 1019 1020 1021 1023 1024 1025 1026 1027 1028 1029 1030\n",
      " 1031 1032 1033 1034 1035 1036 1037 1038 1039 1041 1042 1043 1044 1045\n",
      " 1046 1047 1048 1049 1051 1052 1053 1055 1056 1057 1058 1059 1060 1061\n",
      " 1062 1063 1064 1065 1066 1068 1069 1070 1071 1072 1073 1074 1075 1076\n",
      " 1077 1078 1079 1080 1081 1082 1085 1086 1087 1088 1089 1090 1091 1092\n",
      " 1093 1095 1096 1097 1098 1099 1100 1101 1102 1103 1104 1105 1107 1108\n",
      " 1109 1110 1111 1112 1113 1114 1115 1116 1117 1118 1119 1120 1121 1122\n",
      " 1123 1124 1125 1126 1127 1128 1130 1131 1132 1133 1134 1135 1136 1137\n",
      " 1138 1139 1140 1141 1142 1143 1144 1145 1146 1147 1148 1149 1150 1151\n",
      " 1152 1153 1154 1155 1156 1157 1158 1159 1160 1161 1162 1163 1164 1165\n",
      " 1166 1167 1168 1169 1170 1171 1173 1174 1175 1176 1177 1178 1179 1181\n",
      " 1182 1183 1184 1185 1187 1188 1189 1190 1192 1193 1194 1195 1196 1197\n",
      " 1198 1199 1200 1201 1202 1203 1204 1205 1206 1207 1208 1209 1210 1211\n",
      " 1212 1213 1214 1215 1216 1217 1218 1219 1221 1222 1223 1224 1225 1226\n",
      " 1227 1228 1229 1230 1231 1232 1233 1234 1235 1236 1237 1238 1239 1240\n",
      " 1241 1242 1243 1244 1245 1247 1248 1249 1250 1251 1252 1253 1254 1255\n",
      " 1256 1257 1258 1259 1260 1261 1262 1263 1264 1265 1266 1267 1268 1270\n",
      " 1271 1272 1273 1274 1275 1276 1277 1278 1279 1280 1282 1283 1284 1285\n",
      " 1286 1287 1288 1289 1290 1291 1292 1293 1294 1295 1297 1299 1301 1302\n",
      " 1303 1304 1305 1306 1307 1308 1309 1310 1311 1312 1313 1314 1316 1317\n",
      " 1318 1319 1320 1321 1322 1323 1324 1325 1326 1327 1328 1329 1330 1331\n",
      " 1332 1333 1334 1335 1336 1337 1338 1339 1340 1341 1342 1343 1344 1345\n",
      " 1346 1347 1348 1349 1350 1351 1352 1353 1354 1355 1356 1357 1359 1360\n",
      " 1361 1362 1364 1365 1366 1367 1368 1369 1370 1371 1372 1373 1374 1375\n",
      " 1376 1377 1378 1379 1380 1381 1382 1383 1384 1385 1386 1387 1388 1389\n",
      " 1390 1391 1392 1393 1394 1395 1396 1397 1398 1399 1400 1401 1403 1404\n",
      " 1405 1406 1407 1408 1409 1410 1411 1412 1413 1415 1417 1418 1419 1420\n",
      " 1421 1422 1423 1424 1425 1426 1427 1428 1429 1430 1431 1432 1433 1434\n",
      " 1435 1436 1437 1438 1439 1440 1442 1443 1444 1445 1446 1447 1448 1449\n",
      " 1450 1452 1453 1454 1455 1456 1457 1458 1459 1460 1461 1462 1463 1464\n",
      " 1465 1468 1469 1470 1471 1472 1473 1474 1475 1476 1477 1478 1479 1480\n",
      " 1481 1482 1483 1484 1485 1486 1487 1488 1489 1490 1492 1493 1494 1495\n",
      " 1496 1497 1498 1499]\n",
      "first_name ['Anamaria' 'Mickey' 'Carlee' 'Reynaldo' 'Leonila' 'Livia' 'Eusebio'\n",
      " 'Emely' 'Gerry' 'Wilber' 'Halina' 'Nicolas' 'Edmundo' 'Beata' 'Jann'\n",
      " 'Boris' 'Dennis' 'Shizue' 'Rutha' 'Ricarda' 'Jack' 'Yuki' 'Jess' 'Meggan'\n",
      " 'Georgeanna' 'Jefferey' 'Franklyn' 'Chase' 'Lane' 'Delila' 'Latoyia' 'Jc'\n",
      " 'Jeff' 'Myron' 'Reena' 'Olympia' 'Flo' 'Drucilla' 'Clementina' 'Carlos'\n",
      " 'Devora' 'Barney' 'Yuk' 'Linwood' 'Loise' 'Rosario' 'Edmond' 'Piper'\n",
      " 'Patrick' 'Denis' 'Theo' 'Reinaldo' 'Avril' 'Denisse' 'Maryam' 'Kristeen'\n",
      " 'Larhonda' 'Gerardo' 'Sherlyn' 'Ariel' 'Marcel' 'Dino' 'Jacelyn' 'Isa'\n",
      " 'Seymour' 'Grady' 'Particia' 'Salena' 'Ronny' 'Chau' 'Earnest' 'Brian'\n",
      " 'Neal' 'Grayce' 'Dominic' 'Ignacio' 'Adena' 'Lenard' 'Paris' 'Malena'\n",
      " 'Brock' 'Taylor' 'Taren' 'Karima' 'Lilliam' 'Song' 'Deandre' 'Collin'\n",
      " 'Shavon' 'Aaron' 'Sage' 'Marquitta' 'Moises' 'Thurman' 'Micheal'\n",
      " 'Porfirio' 'Anderson' 'Booker' 'Amal' 'Spencer' 'Esta' 'Yevette' 'Moriah'\n",
      " 'Hank' 'Deane' 'Abraham' 'Kathaleen' 'Lashay' 'Dierdre' 'Jenell'\n",
      " 'Assunta' 'Jermaine' 'Marchelle' 'Lucius' 'Clarence' 'Shane' 'Edward'\n",
      " 'Larry' 'Shannon' 'Scotty' 'Jasper' 'Allegra' 'Arlie' 'Thomas' 'Randolph'\n",
      " 'Kirstie' 'Charlesetta' 'Lorina' 'Kaycee' 'Venice' 'Loma' 'Duncan'\n",
      " 'Dwana' 'Jamaal' 'Earlie' 'Ralph' 'Merrill' 'Humberto' 'Claude' 'Anette'\n",
      " 'Luciano' 'Robin' 'Steven' 'Florance' 'Mark' 'Lanie' 'Kam' 'Nigel'\n",
      " 'Rebbecca' 'Shay' 'Hai' 'Olin' 'Devin' 'Tristan' 'Larisa' 'Shiloh'\n",
      " 'Terrance' 'Charlsie' 'Darcey' 'Ron' 'Fredric' 'Loria' 'Tanner'\n",
      " 'Ethelene' 'Terrence' 'Troy' 'Korey' 'Lacresha' 'Robert' 'Roy' 'Noel'\n",
      " 'Lon' 'Russ' 'Antonetta' 'Delmar' 'Jeanelle' 'Osvaldo' 'Manie' 'Sherly'\n",
      " 'Rafael' 'Angelic' 'Samuel' 'Enrique' 'Garret' 'Shanae' 'Vito' 'Alfredo'\n",
      " 'Carl' 'Emil' 'Adelle' 'Reita' 'Ned' 'Stanford' 'Gavin' 'Mckenzie' 'Cleo'\n",
      " 'Patience' 'Kelly' 'Margarito' 'Denver' 'Vanesa' 'Jude' 'Augustus'\n",
      " 'Andre' 'Gaylord' 'Elidia' 'Janee' 'Matt' 'Felton' 'Odell' 'Leighann'\n",
      " 'Jackeline' 'Quentin' 'Drema' 'Lala' 'Lashunda' 'Isaias' 'Demarcus'\n",
      " 'Quinn' 'Marion' 'Leigha' 'Milan' 'Tifany' 'Mitsue' 'Sumiko' 'Billy'\n",
      " 'Kennith' 'Johnny' 'Gabriel' 'Kai' 'Etsuko' 'Alia' 'Dusti' 'Michelina'\n",
      " 'Lucio' 'Jessie' 'Alec' 'Dorie' 'Gia' 'Britni' 'Anjelica' 'Darrin'\n",
      " 'Ernest' 'Hermila' 'Dudley' 'Elvie' 'Karmen' 'Andrew' 'Masako' 'Annice'\n",
      " 'Alan' 'Yuri' 'Joesph' 'Casie' 'Heide' 'Jenette' 'Steve' 'Thaddeus'\n",
      " 'Angeles' 'Cassey' 'Lanny' 'Demetrius' 'Hung' 'Nicky' 'Keitha' 'Tomas'\n",
      " 'Rosamaria' 'Dominque' 'Gwenn' 'Darron' 'Kristopher' 'Samara' 'Winfred'\n",
      " 'Vincent' 'Cherlyn' 'Kory' 'Antoine' 'Brice' 'Lucilla' 'Ruthanne' 'Huey'\n",
      " 'Eliseo' 'Bert' 'Karlyn' 'Tyler' 'Pamelia' 'Romana' 'Cleora' 'Johnathon'\n",
      " 'Natosha' 'Tamesha' 'Doyle' 'Tobi' 'Lashandra' 'Lucas' 'Macy' 'Donovan'\n",
      " 'Gail' 'Vance' 'Janise' 'Mariette' 'Vanna' 'Kaila' 'Eugene' 'Teresia'\n",
      " 'Hugo' 'Pasquale' 'Emmie' 'Trey' 'Florentina' 'Al' 'Kyle' 'Emerson'\n",
      " 'Leonel' 'Digna' 'Hae' 'Ria' 'Sherley' 'Arturo' 'Kenyetta' 'Clarine'\n",
      " 'Milford' 'Rod' 'Minh' 'Enola' 'Bernard' 'Nenita' 'Roderick' 'Patria'\n",
      " 'Lindsey' 'Ching' 'Andy' 'Mika' 'Vallie' 'Mckinley' 'Jarrett' 'Lajuana'\n",
      " 'German' 'Luci' 'Dominique' 'Nohemi' 'Jeni' 'Raymonde' 'Thu' 'Earleen'\n",
      " 'Deloras' 'Errol' 'Gale' 'Wilfredo' 'Alejandro' 'Leonard' 'Ardelia'\n",
      " 'Willow' 'Kenton' 'Charmain' 'Jae' 'Paulita' 'Shella' 'Noble' 'Alaine'\n",
      " 'Elvis' 'Wendell' 'Man' 'Cortez' 'Rosette' 'Jorge' 'Hal' 'Bryon' 'Season'\n",
      " 'Zane' 'Georgianne' 'Malcom' 'Kasandra' 'Latrisha' 'Lamont' 'Zofia'\n",
      " 'Asuncion' 'Arianna' 'Myung' 'Napoleon' 'Azucena' 'Lyndon' 'Darnell'\n",
      " 'Jennine' 'Louis' 'Harvey' 'Moses' 'France' 'Terrell' 'Genaro' 'Glinda'\n",
      " 'Elodia' 'Ramon' 'Elayne' 'Boyd' 'Miguel' 'Robt' 'Kymberly' 'Janean'\n",
      " 'Joella' 'Santos' 'Winford' 'Rupert' 'Lesley' 'Dinorah' 'Burt' 'Johana'\n",
      " 'Rory' 'Gerald' 'Maximo' 'Kirk' 'Randee' 'Arlen' 'Tammara' 'Magaly'\n",
      " 'Elane' 'Keesha' 'Roni' 'Armand' 'Delpha' 'Damion' 'Sang' 'Elton'\n",
      " 'Shirley' 'Londa' 'Cicely' 'Preston' 'Fidel' 'Donte' 'Scot' 'Shena']\n",
      "last_name ['Bauer' 'Wilkerson' 'Hoffman' 'Jenkins' 'Thompson' 'Shields' 'Welch'\n",
      " 'Little' 'Blair' 'Henry' 'Snider' 'Simon' 'Carpenter' 'Salinas' 'Gates'\n",
      " 'Grimes' 'Landry' 'Bell' 'Booker' 'Delaney' 'Tyson' 'Wilkinson'\n",
      " 'Hamilton' 'Cardenas' 'Rasmussen' 'Henson' 'Kane' 'Martin' 'Dalton'\n",
      " 'Moran' 'Gentry' 'Cummings' 'Hodge' 'Velazquez' 'Hicks' 'Lynn'\n",
      " 'Mclaughlin' 'Hinton' 'Galloway' 'Ortega' 'Hooper' 'French' 'Terrell'\n",
      " 'Avery' 'Gibbs' 'Hopkins' 'Espinoza' 'Mclean' 'Chandler' 'Sargent'\n",
      " 'Colon' 'Richardson' 'Santos' 'Valencia' 'Head' 'Hartman' 'Ashley' 'Noel'\n",
      " 'Woods' 'Jimenez' 'Fry' 'Contreras' 'Roy' 'Spence' 'Crawford' 'Fuller'\n",
      " 'Bates' 'Browning' 'Webster' 'Gray' 'Mccall' 'Mcgee' 'Sears' 'Witt'\n",
      " 'Bennett' 'Macias' 'Atkinson' 'Robertson' 'Kelley' 'Skinner' 'Oliver'\n",
      " 'Strickland' 'Hampton' 'Alvarado' 'Cline' 'Powell' 'Sims' 'Banks' 'Rowe'\n",
      " 'Conley' 'Walton' 'Weeks' 'Stephens' 'Poole' 'Cash' 'Cotton' 'Hahn'\n",
      " 'Pacheco' 'Powers' 'Estes' 'Yang' 'Yates' 'Taylor' 'Ramirez' 'Palmer'\n",
      " 'Mcconnell' 'Albert' 'Reese' 'Nash' 'Navarro' 'Carver' 'Mcguire' 'Brock'\n",
      " 'Fernandez' 'Cunningham' 'Morrison' 'Roberts' 'Barr' 'Nichols' 'White'\n",
      " 'Caldwell' 'Higgins' 'Lawson' 'Graves' 'Hodges' 'Dillard' 'Stevens'\n",
      " 'Peterson' 'Brooks' 'Mcneil' 'Malone' 'Moore' 'Camacho' 'Giles' 'Monroe'\n",
      " 'Hogan' 'Pruitt' 'Chambers' 'Sheppard' 'Thornton' 'Baker' 'Morgan'\n",
      " 'Estrada' 'Farley' 'Washington' 'Huber' 'Bryant' 'Nicholson' 'Weaver'\n",
      " 'Bean' 'Adkins' 'Cain' 'Ellis' 'Stafford' 'Shaffer' 'Anderson' 'Reid'\n",
      " 'Baird' 'Kaufman' 'Burt' 'Gallegos' 'Middleton' 'Freeman' 'Goodman'\n",
      " 'Smith' 'Hutchinson' 'Goodwin' 'Olsen' 'Velez' 'Dawson' 'Parker' 'Horne'\n",
      " 'Finley' 'Cross' 'Mayer' 'Levy' 'Wade' 'Singleton' 'Porter' 'Paul'\n",
      " 'Carrillo' 'Cameron' 'Newman' 'Robles' 'Knapp' 'Atkins' 'Thomas' 'Pena'\n",
      " 'Keller' 'Wilson' 'Cole' 'Barker' 'Harrell' 'Willis' 'Hale' 'Russell'\n",
      " 'Perkins' 'Nguyen' 'Juarez' 'Wheeler' 'Byrd' 'Hancock' 'Lopez' 'Walls'\n",
      " 'Johns' 'Compton' 'David' 'Sellers' 'York' 'Dudley' 'Webb' 'Rowland'\n",
      " 'Wise' \"O'donnell\" 'Perry' 'Aguilar' 'Forbes' 'Duffy' 'Hill' 'Bowers'\n",
      " 'Chan' 'Rose' 'Mercado' 'Ryan' 'Massey' 'Carney' 'Faulkner' 'Montgomery'\n",
      " 'Duke' 'Berry' 'Calhoun' 'Burgess' 'Odom' 'Barry' 'Castaneda' 'Gill'\n",
      " 'Rush' 'Mejia' 'Nolan' 'Russo' 'Flowers' 'Tucker' 'Harrison' 'Horton'\n",
      " 'Morris' 'Reeves' 'Gross' 'Craig' 'Lang' 'Zimmerman' 'Saunders' 'Emerson'\n",
      " 'Heath' 'Walsh' 'Carson' 'Wells' 'Sweeney' 'Lyons' 'Branch' 'Peck'\n",
      " 'Nunez' 'Kinney' 'Ramos' 'Coleman' 'Bradshaw' 'Arnold' 'Bowman' 'Stanton'\n",
      " 'Andrews' 'Patton' 'Ewing' 'Daugherty' 'Gonzalez' 'Lynch' 'Rutledge'\n",
      " 'Diaz' 'Whitfield' 'Dyer' 'Beach' 'Norris' 'Mullins' 'Mcknight' 'Bonner'\n",
      " 'Huff' 'Fischer' 'Ray' 'Mckee' 'Vasquez' 'Slater' 'Kim' 'Dickerson'\n",
      " 'Watts' 'Holden' 'Williams' 'Conway' 'Clayton' 'Spencer' 'Burris' 'Kidd'\n",
      " 'Mccoy' 'Good' 'Erickson' 'Gilbert' 'Lowe' 'Glass' 'Cooke' 'Mcfadden'\n",
      " 'Rosa' 'Wooten' 'Benton' 'Steele' 'Hickman' 'Gardner' 'Hunter'\n",
      " 'Jefferson' 'Vargas' 'Lloyd' 'Fleming' 'Hensley' 'Mendez' 'Madden'\n",
      " 'Barnes' 'Gordon' 'Hardy' 'Hobbs' 'Neal' 'Keith' 'Larsen' 'Conner'\n",
      " 'Conrad' 'Pugh' 'Cabrera' 'Barrett' 'Quinn' 'Donovan' 'Ball' 'Hester'\n",
      " 'Foley' 'Marquez' 'Sparks' 'Tyler' 'Cohen' 'Munoz' 'Underwood' 'Santana'\n",
      " 'Workman' 'Simmons' 'Burke' 'Nixon' 'Mitchell' 'Mendoza' 'Sutton'\n",
      " 'Dorsey' 'Rivas' 'Burnett' 'Buchanan' 'Frye' 'Glenn' 'Farrell' 'Baldwin'\n",
      " 'Woodard' 'Solis' 'Simpson' 'Jones' 'Cortez' 'Wynn' 'Downs' 'Sharpe'\n",
      " 'Shepherd' 'Barrera' 'Williamson' 'Dickson']\n",
      "age [45 28 36 52 40 31 42 53 19 73 50 61 26 30 70 34 56 37 74 64 49 38 57 59\n",
      " 22 67 20 32 58 25 55 47 27 33 18 41 60 46 66 29 69 35 51 23 48 44 65 75\n",
      " 21 39 68 71 54 63 43 24 62 72]\n",
      "city ['Atlanta-Sandy Springs-Roswell, GA MSA' 'Seattle-Tacoma-Bellevue, WA MSA'\n",
      " 'Las Vegas-Henderson-Paradise, NV MSA' 'Tulsa, OK MSA'\n",
      " 'Dallas-Fort Worth-Arlington, TX MSA' 'Grand Rapids-Kentwood, MI MSA'\n",
      " 'Orlando-Kissimmee-Sanford, FL MSA'\n",
      " 'San Jose-Sunnyvale-Santa Clara, CA MSA' 'Cleveland-Elyria, OH MSA'\n",
      " 'Knoxville, TN MSA' 'New York-Newark-Jersey City, NY-NJ-PA MSA'\n",
      " 'Pittsburgh, PA MSA' 'Fresno, CA MSA'\n",
      " 'Washington-Arlington-Alexandria, DC-VA-MD-WV MSA'\n",
      " 'Indianapolis-Carmel-Anderson, IN MSA' 'Jacksonville, FL MSA'\n",
      " 'Los Angeles-Long Beach-Anaheim, CA MSA'\n",
      " 'Omaha-Council Bluffs, NE-IA MSA'\n",
      " 'Houston-The Woodlands-Sugar Land, TX MSA'\n",
      " 'Philadelphia-Camden-Wilmington, PA-NJ-DE-MD MSA'\n",
      " 'Tampa-St. Petersburg-Clearwater, FL MSA'\n",
      " 'Chicago-Naperville-Elgin, IL-IN-WI MSA' 'Birmingham-Hoover, AL MSA'\n",
      " 'Oklahoma City, OK MSA' 'Charlotte-Concord-Gastonia, NC-SC MSA'\n",
      " 'Denver-Aurora-Lakewood, CO MSA'\n",
      " 'Nashville-Davidson–Murfreesboro–Franklin, TN MSA' 'Columbus, OH MSA'\n",
      " 'Albuquerque, NM MSA' 'Boston-Cambridge-Newton, MA-NH MSA'\n",
      " 'Miami-Fort Lauderdale-West Palm Beach, FL MSA'\n",
      " 'San Diego-Chula Vista-Carlsbad, CA MSA'\n",
      " 'Portland-Vancouver-Hillsboro, OR-WA MSA' 'Cincinnati, OH-KY-IN MSA'\n",
      " 'Columbia, SC MSA' 'San Antonio-New Braunfels, TX MSA'\n",
      " 'Buffalo-Cheektowaga, NY MSA' 'Memphis, TN-MS-AR MSA'\n",
      " 'Phoenix-Mesa-Chandler, AZ MSA'\n",
      " 'Riverside-San Bernardino-Ontario, CA MSA'\n",
      " 'Louisville/Jefferson County, KY-IN MSA'\n",
      " 'Albany-Schenectady-Troy, NY MSA' 'Providence-Warwick, RI-MA MSA'\n",
      " 'Salt Lake City, UT MSA' 'Urban Honolulu, HI MSA' 'El Paso, TX MSA'\n",
      " 'New Haven-Milford, CT MSA' 'North Port-Sarasota-Bradenton, FL MSA'\n",
      " 'San Francisco-Oakland-Berkeley, CA MSA' 'New Orleans-Metairie, LA MSA'\n",
      " 'Bridgeport-Stamford-Norwalk, CT MSA'\n",
      " 'Virginia Beach-Norfolk-Newport News, VA-NC MSA'\n",
      " 'Baltimore-Columbia-Towson, MD MSA' 'Milwaukee-Waukesha, WI MSA'\n",
      " 'Oxnard-Thousand Oaks-Ventura, CA MSA'\n",
      " 'Sacramento–Roseville–Folsom, CA MSA'\n",
      " 'Austin-Round Rock-Georgetown, TX MSA' 'Richmond, VA MSA'\n",
      " 'Minneapolis-St. Paul-Bloomington, MN-WI MSA' 'Dayton-Kettering, OH MSA'\n",
      " 'Bakersfield, CA MSA' 'Detroit-Warren-Dearborn, MI MSA'\n",
      " 'Baton Rouge, LA MSA' 'Kansas City, MO-KS MSA' 'St. Louis, MO-IL MSA'\n",
      " 'Charleston-North Charleston, SC MSA' 'Rochester, NY MSA'\n",
      " 'Colorado Springs, CO MSA' 'Greensboro-High Point, NC MSA'\n",
      " 'Tucson, AZ MSA' 'Stockton, CA MSA' 'Cape Coral-Fort Myers, FL MSA']\n",
      "reg_date ['2018-12-24' '2018-08-13' '2018-10-21' '2018-01-28' '2018-05-23'\n",
      " '2018-11-29' '2018-07-11' '2018-08-03' '2018-04-22' '2018-03-09'\n",
      " '2018-01-18' '2018-12-01' '2018-11-25' '2018-12-05' '2018-10-25'\n",
      " '2018-08-26' '2018-10-17' '2018-01-16' '2018-11-08' '2018-12-21'\n",
      " '2018-07-06' '2018-08-21' '2018-10-28' '2018-07-20' '2018-06-26'\n",
      " '2018-02-21' '2018-01-05' '2018-02-14' '2018-07-15' '2018-06-07'\n",
      " '2018-05-30' '2018-12-08' '2018-05-09' '2018-08-11' '2018-06-25'\n",
      " '2018-03-17' '2018-01-15' '2018-06-20' '2018-08-30' '2018-10-15'\n",
      " '2018-02-19' '2018-06-16' '2018-08-24' '2018-12-11' '2018-03-05'\n",
      " '2018-07-30' '2018-01-13' '2018-03-01' '2018-08-07' '2018-11-06'\n",
      " '2018-04-07' '2018-03-08' '2018-02-06' '2018-11-05' '2018-06-03'\n",
      " '2018-01-29' '2018-09-17' '2018-05-12' '2018-07-12' '2018-04-06'\n",
      " '2018-11-26' '2018-08-06' '2018-07-29' '2018-01-14' '2018-02-11'\n",
      " '2018-01-26' '2018-04-27' '2018-04-15' '2018-07-19' '2018-11-18'\n",
      " '2018-05-27' '2018-09-03' '2018-05-04' '2018-12-10' '2018-12-17'\n",
      " '2018-04-21' '2018-12-22' '2018-02-26' '2018-08-14' '2018-02-13'\n",
      " '2018-02-08' '2018-02-20' '2018-07-01' '2018-12-23' '2018-01-08'\n",
      " '2018-11-15' '2018-12-30' '2018-02-16' '2018-04-20' '2018-10-08'\n",
      " '2018-06-04' '2018-07-21' '2018-11-19' '2018-08-08' '2018-01-24'\n",
      " '2018-10-05' '2018-04-03' '2018-03-13' '2018-03-04' '2018-04-19'\n",
      " '2018-08-16' '2018-06-02' '2018-06-23' '2018-01-25' '2018-05-17'\n",
      " '2018-01-07' '2018-04-14' '2018-10-14' '2018-10-02' '2018-03-26'\n",
      " '2018-08-23' '2018-10-26' '2018-04-12' '2018-10-13' '2018-04-30'\n",
      " '2018-11-04' '2018-03-03' '2018-09-19' '2018-03-20' '2018-11-01'\n",
      " '2018-06-19' '2018-07-18' '2018-03-25' '2018-07-02' '2018-11-30'\n",
      " '2018-02-05' '2018-11-27' '2018-01-12' '2018-02-17' '2018-10-27'\n",
      " '2018-05-07' '2018-12-13' '2018-12-06' '2018-09-25' '2018-01-27'\n",
      " '2018-09-28' '2018-09-30' '2018-10-03' '2018-11-09' '2018-04-13'\n",
      " '2018-05-29' '2018-03-07' '2018-01-10' '2018-09-24' '2018-08-01'\n",
      " '2018-07-07' '2018-05-31' '2018-06-09' '2018-05-01' '2018-08-20'\n",
      " '2018-04-05' '2018-07-09' '2018-07-17' '2018-08-28' '2018-06-01'\n",
      " '2018-06-30' '2018-07-27' '2018-01-01' '2018-05-14' '2018-06-27'\n",
      " '2018-07-05' '2018-06-28' '2018-03-15' '2018-01-17' '2018-12-09'\n",
      " '2018-02-27' '2018-01-19' '2018-09-11' '2018-09-12' '2018-04-04'\n",
      " '2018-03-18' '2018-08-27' '2018-05-11' '2018-06-10' '2018-08-18'\n",
      " '2018-03-16' '2018-12-02' '2018-02-22' '2018-02-09' '2018-03-06'\n",
      " '2018-05-03' '2018-11-23' '2018-03-12' '2018-09-18' '2018-06-24'\n",
      " '2018-08-04' '2018-02-02' '2018-11-03' '2018-09-07' '2018-12-07'\n",
      " '2018-11-12' '2018-09-14' '2018-08-25' '2018-01-04' '2018-01-21'\n",
      " '2018-05-08' '2018-12-31' '2018-11-22' '2018-07-04' '2018-05-24'\n",
      " '2018-05-21' '2018-11-11' '2018-09-29' '2018-06-17' '2018-02-23'\n",
      " '2018-06-18' '2018-02-10' '2018-11-24' '2018-03-11' '2018-08-09'\n",
      " '2018-12-25' '2018-04-26' '2018-10-01' '2018-09-05' '2018-09-08'\n",
      " '2018-03-27' '2018-10-07' '2018-05-16' '2018-09-20' '2018-07-23'\n",
      " '2018-05-20' '2018-10-06' '2018-04-16' '2018-10-18' '2018-09-04'\n",
      " '2018-06-22' '2018-10-10' '2018-04-11' '2018-05-25' '2018-03-28'\n",
      " '2018-05-06' '2018-10-29' '2018-10-22' '2018-06-06' '2018-01-11'\n",
      " '2018-10-04' '2018-08-10' '2018-04-08' '2018-03-29' '2018-05-18'\n",
      " '2018-10-16' '2018-07-24' '2018-10-23' '2018-08-29' '2018-06-15'\n",
      " '2018-09-10' '2018-12-29' '2018-05-28' '2018-11-07' '2018-04-10'\n",
      " '2018-12-27' '2018-04-25' '2018-05-15' '2018-01-20' '2018-02-04']\n",
      "plan ['ultimate' 'surf']\n",
      "churn_date [nan]\n"
     ]
    }
   ],
   "source": [
    "#Tratamiento de valores nulos para churn_date\n",
    "churn_date_null = data5[data5['churn_date'].isnull()]\n",
    "#Ver valores unicos de cada fila que tenga churn_date nulo\n",
    "for i in churn_date_null.columns:\n",
    "    print(i, churn_date_null[i].unique())"
   ]
  },
  {
   "cell_type": "code",
   "execution_count": 169,
   "metadata": {},
   "outputs": [
    {
     "name": "stdout",
     "output_type": "stream",
     "text": [
      "2262-04-11 23:47:16.854775807\n"
     ]
    }
   ],
   "source": [
    "print(pd.Timestamp.max)"
   ]
  },
  {
   "cell_type": "markdown",
   "metadata": {},
   "source": [
    "Como no hay relacion del valor nulo con el resto de datos, se reemplaza por la fecha 2261-12-31, que aun no cancela el servicio."
   ]
  },
  {
   "cell_type": "markdown",
   "metadata": {},
   "source": []
  },
  {
   "cell_type": "code",
   "execution_count": null,
   "metadata": {},
   "outputs": [
    {
     "data": {
      "text/plain": [
       "user_id         0\n",
       "first_name      0\n",
       "last_name       0\n",
       "age             0\n",
       "city            0\n",
       "reg_date        0\n",
       "plan            0\n",
       "churn_date    466\n",
       "dtype: int64"
      ]
     },
     "execution_count": 170,
     "metadata": {},
     "output_type": "execute_result"
    },
    {
     "ename": "",
     "evalue": "",
     "output_type": "error",
     "traceback": [
      "\u001b[1;31mThe Kernel crashed while executing code in the current cell or a previous cell. \n",
      "\u001b[1;31mPlease review the code in the cell(s) to identify a possible cause of the failure. \n",
      "\u001b[1;31mClick <a href='https://aka.ms/vscodeJupyterKernelCrash'>here</a> for more info. \n",
      "\u001b[1;31mView Jupyter <a href='command:jupyter.viewOutput'>log</a> for further details."
     ]
    }
   ],
   "source": [
    "data5.isnull().sum()"
   ]
  }
 ],
 "metadata": {
  "kernelspec": {
   "display_name": "Python 3",
   "language": "python",
   "name": "python3"
  },
  "language_info": {
   "codemirror_mode": {
    "name": "ipython",
    "version": 3
   },
   "file_extension": ".py",
   "mimetype": "text/x-python",
   "name": "python",
   "nbconvert_exporter": "python",
   "pygments_lexer": "ipython3",
   "version": "3.11.8"
  }
 },
 "nbformat": 4,
 "nbformat_minor": 2
}
