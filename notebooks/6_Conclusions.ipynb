{
 "cells": [
  {
   "cell_type": "markdown",
   "metadata": {},
   "source": [
    "Modelo Seleccionado es una regresión lineal. Las características utilizadas para obtener las relaciones fueron 'month del plan', 'year del plan', 'total_minutes usados en ese periodo(mes)', 'total_messages usados en ese periodo(mes)', 'total_mb usados en ese periodo(mes)', 'edad del usuario','exceso_messages usados en ese periodo(mes)', 'exceso_mb_used usados en ese periodo(mes)', 'exceso_minutes usados en ese periodo(mes)', 'costo_extra cargado en ese periodo(mes)','total_cost', 'Código de ciudad'"
   ]
  },
  {
   "cell_type": "markdown",
   "metadata": {},
   "source": [
    "Se obtuvieron los scores  'RMSE_test': 24.399318782944153,\n",
    " 'MAE_test': 12.922741292440557,\n",
    " 'R2_test': 0.49872265680924754'\n",
    " \n",
    "RMSE (Root Mean Squared Error): 24.4. Este valor indica que las predicciones del modelo se desvían, en promedio, alrededor de 24.4 USD de los valores reales. Este es un error relativamente alto, lo que podría sugerir que el modelo no está ajustando bien los datos, especialmente si los precios reales varían significativamente.\n",
    "\n",
    "MAE (Mean Absolute Error): 12.92. Este valor muestra que, en promedio, el modelo comete un error absoluto de aproximadamente 12.92 USD. Aunque es más bajo que el RMSE, sigue siendo un error considerable, lo que indica que el modelo podría no ser lo suficientemente preciso en sus predicciones.\n",
    "\n",
    "R2 (Coeficiente de Determinación): 0.499. Este valor indica que el modelo explica solo el 49.9% de la variabilidad en los precios, lo que es relativamente bajo. Un valor de R2 más cercano a 1 sería deseable, ya que implicaría que el modelo explica una mayor parte de la variabilidad en los datos."
   ]
  },
  {
   "cell_type": "markdown",
   "metadata": {},
   "source": [
    "Se recomienda incluir otras técnicas como número de días festivos o feriados para un mes específico u otras métricas para estandarizar el consumo de cliente. Ya sea promedios anuales, por mes, etc.  Además también se podría incluir técnicas que recopiles data como medias móviles de últimos 3 meses, medias móviles de últimos años, último mes o último año. "
   ]
  },
  {
   "cell_type": "markdown",
   "metadata": {},
   "source": [
    "Aunque no es una predicción totalmente acertada, se puede trabajar con este modelo para predecir en buena medida un consumo promedio de los usuarios para el siguiente mes, lo cual es beneficioso para la empresa para generar campañas de publicidad para los usuarios que se ve que el proximo mes no gastaran mucho o beneficios para los usuarios que se predice que gastarán más."
   ]
  }
 ],
 "metadata": {
  "language_info": {
   "name": "python"
  }
 },
 "nbformat": 4,
 "nbformat_minor": 2
}
